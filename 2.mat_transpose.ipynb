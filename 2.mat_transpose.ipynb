{
 "cells": [
  {
   "cell_type": "code",
   "execution_count": 3,
   "id": "2fe40811-7fee-430b-b072-5fa2c0f2a563",
   "metadata": {},
   "outputs": [
    {
     "name": "stdout",
     "output_type": "stream",
     "text": [
      "<zip object at 0x1046eb100>\n"
     ]
    }
   ],
   "source": [
    "a = ['1','2','3']\n",
    "b = ['sujay','akshay','ram']\n",
    "print(zip(a,b))"
   ]
  },
  {
   "cell_type": "code",
   "execution_count": 4,
   "id": "57e0929d-0828-4ea4-b07d-5767ff67a16a",
   "metadata": {},
   "outputs": [
    {
     "name": "stdout",
     "output_type": "stream",
     "text": [
      "('1', 'sujay')\n",
      "('2', 'akshay')\n",
      "('3', 'ram')\n"
     ]
    }
   ],
   "source": [
    "for i in zip(a,b):\n",
    "    print(i)"
   ]
  },
  {
   "cell_type": "code",
   "execution_count": 12,
   "id": "c8702ee4-704b-4fb9-995b-a11cb92b5975",
   "metadata": {},
   "outputs": [
    {
     "data": {
      "text/plain": [
       "<zip at 0x105564280>"
      ]
     },
     "execution_count": 12,
     "metadata": {},
     "output_type": "execute_result"
    }
   ],
   "source": [
    "a = [[2,1],[2,3]]\n",
    "zip(*a)"
   ]
  },
  {
   "cell_type": "code",
   "execution_count": 13,
   "id": "4471f278-991a-417f-b9ba-69a8cd75b42b",
   "metadata": {},
   "outputs": [
    {
     "name": "stdout",
     "output_type": "stream",
     "text": [
      "(2, 2)\n",
      "(1, 3)\n"
     ]
    }
   ],
   "source": [
    "for i in zip(*a):\n",
    "    print(i)"
   ]
  },
  {
   "cell_type": "code",
   "execution_count": 19,
   "id": "973aba48-6b9f-491a-a9bf-b7e8ed230ca8",
   "metadata": {},
   "outputs": [
    {
     "data": {
      "text/plain": [
       "array([1, 2, 3])"
      ]
     },
     "execution_count": 19,
     "metadata": {},
     "output_type": "execute_result"
    }
   ],
   "source": [
    "import numpy as np\n",
    "np.transpose([1,2,3])"
   ]
  },
  {
   "cell_type": "code",
   "execution_count": 15,
   "id": "04526f9f-6823-4c2f-8ccc-7c5439d93525",
   "metadata": {},
   "outputs": [],
   "source": [
    "def transpose_matrix(a: list[list[int|float]]) -> list[list[int|float]]:\n",
    "\treturn [list(i) for i in zip(*a)]"
   ]
  },
  {
   "cell_type": "code",
   "execution_count": 22,
   "id": "17888800-1471-45fd-823b-2bff13f1ab82",
   "metadata": {},
   "outputs": [
    {
     "data": {
      "text/plain": [
       "array([2, 1, 3])"
      ]
     },
     "execution_count": 22,
     "metadata": {},
     "output_type": "execute_result"
    }
   ],
   "source": [
    "np.array([list(i) for i in zip([2,1,3])]).reshape(-1)\n"
   ]
  },
  {
   "cell_type": "code",
   "execution_count": null,
   "id": "b919fe4e-82ea-4ff4-85dc-f6928ce1e0ce",
   "metadata": {},
   "outputs": [],
   "source": []
  }
 ],
 "metadata": {
  "kernelspec": {
   "display_name": "Python 3 (ipykernel)",
   "language": "python",
   "name": "python3"
  },
  "language_info": {
   "codemirror_mode": {
    "name": "ipython",
    "version": 3
   },
   "file_extension": ".py",
   "mimetype": "text/x-python",
   "name": "python",
   "nbconvert_exporter": "python",
   "pygments_lexer": "ipython3",
   "version": "3.12.4"
  }
 },
 "nbformat": 4,
 "nbformat_minor": 5
}
