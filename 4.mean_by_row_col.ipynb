{
 "cells": [
  {
   "cell_type": "code",
   "execution_count": 6,
   "id": "1a9cb143-2a9a-4496-bd50-503d92d1ebda",
   "metadata": {},
   "outputs": [],
   "source": [
    "def calculate_matrix_mean(matrix: list[list[float]], mode: str) -> list[float]:\n",
    "\tif mode == \"column\":\n",
    "\t\tmatrix = [list(x) for x in zip(*matrix)]\n",
    "\treturn [sum(i)/len(i) for i in matrix]"
   ]
  },
  {
   "cell_type": "code",
   "execution_count": 8,
   "id": "d07321b5-be4f-45f5-812d-c7fc939276e5",
   "metadata": {},
   "outputs": [
    {
     "name": "stdout",
     "output_type": "stream",
     "text": [
      "CPU times: user 33 μs, sys: 9 μs, total: 42 μs\n",
      "Wall time: 45.1 μs\n"
     ]
    },
    {
     "data": {
      "text/plain": [
       "[2.0, 5.0, 8.0]"
      ]
     },
     "execution_count": 8,
     "metadata": {},
     "output_type": "execute_result"
    }
   ],
   "source": [
    "%%time\n",
    "a = [[1, 2, 3], [4, 5, 6], [7, 8, 9]]\n",
    "calculate_matrix_mean(a,'row')"
   ]
  },
  {
   "cell_type": "code",
   "execution_count": null,
   "id": "ab8b25e7-6e4c-4496-8396-46804122819c",
   "metadata": {},
   "outputs": [],
   "source": []
  }
 ],
 "metadata": {
  "kernelspec": {
   "display_name": "Python 3 (ipykernel)",
   "language": "python",
   "name": "python3"
  },
  "language_info": {
   "codemirror_mode": {
    "name": "ipython",
    "version": 3
   },
   "file_extension": ".py",
   "mimetype": "text/x-python",
   "name": "python",
   "nbconvert_exporter": "python",
   "pygments_lexer": "ipython3",
   "version": "3.12.4"
  }
 },
 "nbformat": 4,
 "nbformat_minor": 5
}
