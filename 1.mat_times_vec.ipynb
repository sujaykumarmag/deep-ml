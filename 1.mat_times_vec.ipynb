{
 "cells": [
  {
   "cell_type": "code",
   "execution_count": 1,
   "id": "582fefda-048b-4b05-a17e-ff115fd4d753",
   "metadata": {},
   "outputs": [],
   "source": [
    "import numpy as np"
   ]
  },
  {
   "cell_type": "code",
   "execution_count": 2,
   "id": "5a022750-6f25-470c-b620-444fb97dd5a3",
   "metadata": {},
   "outputs": [
    {
     "data": {
      "text/plain": [
       "6"
      ]
     },
     "execution_count": 2,
     "metadata": {},
     "output_type": "execute_result"
    }
   ],
   "source": [
    "np.dot(2,3)"
   ]
  },
  {
   "cell_type": "code",
   "execution_count": 3,
   "id": "d1e2f8df-23f8-454b-b280-640b11e5ad71",
   "metadata": {},
   "outputs": [],
   "source": [
    "def matrix_dot_vector(a:list[list[int|float]],b:list[int|float])-> list[int|float]:\n",
    "\tc = []\n",
    "\tif a is None or len(a[0]) != len(b):\n",
    "\t\treturn -1\n",
    "\tfor i in a:\n",
    "\t\tres = sum(b[j]*i[j] for j in range(len(b)))\n",
    "\t\tc.append(res)\n",
    "\treturn c"
   ]
  },
  {
   "cell_type": "code",
   "execution_count": 5,
   "id": "83d51c2a-4bbe-4bf4-8c97-fe549b3d4286",
   "metadata": {},
   "outputs": [
    {
     "data": {
      "text/plain": [
       "[6]"
      ]
     },
     "execution_count": 5,
     "metadata": {},
     "output_type": "execute_result"
    }
   ],
   "source": [
    "matrix_dot_vector([[2]],[3])"
   ]
  },
  {
   "cell_type": "code",
   "execution_count": null,
   "id": "d5df1da4-d979-4d84-b7c3-9b7e780810db",
   "metadata": {},
   "outputs": [],
   "source": []
  }
 ],
 "metadata": {
  "kernelspec": {
   "display_name": "Python 3 (ipykernel)",
   "language": "python",
   "name": "python3"
  },
  "language_info": {
   "codemirror_mode": {
    "name": "ipython",
    "version": 3
   },
   "file_extension": ".py",
   "mimetype": "text/x-python",
   "name": "python",
   "nbconvert_exporter": "python",
   "pygments_lexer": "ipython3",
   "version": "3.12.4"
  }
 },
 "nbformat": 4,
 "nbformat_minor": 5
}
